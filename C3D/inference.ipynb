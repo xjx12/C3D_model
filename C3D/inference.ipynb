{
 "cells": [
  {
   "cell_type": "code",
   "execution_count": 1,
   "id": "8fcca63a",
   "metadata": {},
   "outputs": [],
   "source": [
    "import torch\n",
    "import cv2\n",
    "import C3D_model\n",
    "import numpy as np"
   ]
  },
  {
   "cell_type": "code",
   "execution_count": 2,
   "id": "9d781991",
   "metadata": {},
   "outputs": [],
   "source": [
    "def center_corp(frame):\n",
    "    frame = frame[8:120,30:142,:]\n",
    "    return np.array(frame).astype(np.uint8)"
   ]
  },
  {
   "cell_type": "code",
   "execution_count": 3,
   "id": "3d1c4f40",
   "metadata": {},
   "outputs": [],
   "source": [
    "def center_crop(frame):\n",
    "    height, width, _ = frame.shape\n",
    "    new_height = 112\n",
    "    new_width = 112\n",
    "    top = (height - new_height) // 2\n",
    "    left = (width - new_width) // 2\n",
    "    return frame[top:top+new_height, left:left+new_width]\n",
    "\n",
    "def inference():\n",
    "    device = torch.device(\"cuda:0\" if torch.cuda.is_available() else \"cpu\")  # 定义模型的设备\n",
    "    \n",
    "    # 加载数据标签\n",
    "    with open(\"./data/labels.txt\", 'r') as f:\n",
    "        class_names = f.readlines()\n",
    "        f.close()\n",
    "    # 加载模型并将模型参数加载到模型中\n",
    "    model = C3D_model.C3D(num_classes=101)\n",
    "    checkpoint = torch.load('./model_resule/models/C3D_epoch-14.pth.tar')\n",
    "    model.load_state_dict(checkpoint['state_dict'])\n",
    "    \n",
    "    # 将模型放入到设备中，并设置验证模式\n",
    "    model.to(device)\n",
    "    model.eval()\n",
    "    \n",
    "    video = './data/testvideo_2.avi'\n",
    "    cap = cv2.VideoCapture(video)\n",
    "    retaining = True\n",
    "    \n",
    "    clip = []\n",
    "    while retaining:\n",
    "        retaining, frame = cap.read()  # 读取视频帧\n",
    "        if not retaining or frame is None:\n",
    "            continue\n",
    "            \n",
    "        tmp_ = center_crop(cv2.resize(frame, (171, 128)))  # resize 图片到 171*128 后把图片切成 112*112\n",
    "        tmp = tmp_ - np.array([[[90.0, 98.0, 102.0]]])  # 归一化\n",
    "        clip.append(tmp)  # 将视频图片帧加载到列表\n",
    "        \n",
    "        if len(clip) == 16:\n",
    "            inputs = np.array(clip).astype(np.float32)\n",
    "            inputs = np.expand_dims(inputs, axis=0)\n",
    "            inputs = np.transpose(inputs, (0, 4, 1, 2, 3))\n",
    "            inputs = torch.from_numpy(inputs)\n",
    "            inputs = torch.autograd.Variable(inputs, requires_grad=False).to(device)\n",
    "            \n",
    "            with torch.no_grad():\n",
    "                outputs = model.forward(inputs)\n",
    "                \n",
    "            probs = torch.nn.Softmax(dim=1)(outputs)\n",
    "            label = torch.max(probs, 1)[1].detach().cpu().numpy()[0]  # 获取预测标签\n",
    "            \n",
    "            # 将预测结果显示到视频上\n",
    "            cv2.putText(frame, class_names[label].split(' ')[-1].strip(), (20, 20),\n",
    "                        cv2.FONT_HERSHEY_SIMPLEX, 0.6, (0, 0, 255), 1)\n",
    "            cv2.putText(frame, \"prob: %.4f\" % probs[0][label], (20, 40),\n",
    "                        cv2.FONT_HERSHEY_SIMPLEX, 0.6, (0, 0, 255), 1)\n",
    "            \n",
    "            clip.pop(0)\n",
    "            \n",
    "        cv2.imshow('C3D_model', frame)\n",
    "        if cv2.waitKey(10) & 0xFF == ord(' '):  # 检测空格键\n",
    "            break\n",
    "    \n",
    "    cap.release()\n",
    "    cv2.destroyAllWindows()"
   ]
  },
  {
   "cell_type": "code",
   "execution_count": 4,
   "id": "159571a9",
   "metadata": {},
   "outputs": [],
   "source": [
    "if __name__ == \"__main__\":\n",
    "    inference()"
   ]
  }
 ],
 "metadata": {
  "kernelspec": {
   "display_name": "Python 3 (ipykernel)",
   "language": "python",
   "name": "python3"
  },
  "language_info": {
   "codemirror_mode": {
    "name": "ipython",
    "version": 3
   },
   "file_extension": ".py",
   "mimetype": "text/x-python",
   "name": "python",
   "nbconvert_exporter": "python",
   "pygments_lexer": "ipython3",
   "version": "3.9.18"
  }
 },
 "nbformat": 4,
 "nbformat_minor": 5
}
