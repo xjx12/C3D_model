{
 "cells": [
  {
   "cell_type": "code",
   "execution_count": 1,
   "id": "be42f0e3",
   "metadata": {},
   "outputs": [],
   "source": [
    "import torch\n",
    "from torch import nn,optim\n",
    "import C3D_model\n",
    "from tensorboardX import SummaryWriter\n",
    "import os\n",
    "from datetime import datetime\n",
    "import socket\n",
    "import timeit\n",
    "from tqdm import tqdm\n",
    "from torch.autograd import Variable\n",
    "from torch.utils.data import DataLoader\n",
    "from dataset import VideoDataset"
   ]
  },
  {
   "cell_type": "code",
   "execution_count": 2,
   "id": "ad9e5df7",
   "metadata": {},
   "outputs": [],
   "source": [
    "def train_model(num_classes,train_dataloader,val_dataloader,test_dataloader,num_epochs,lr,device,save_dir):\n",
    "    #C3D模型实例化\n",
    "    model = C3D_model.C3D(num_classes,pretrained=True)\n",
    "    \n",
    "    #定义模型损失函数\n",
    "    criterion = nn.CrossEntropyLoss()\n",
    "    \n",
    "    #定义模型优化器\n",
    "    optimizer = optim.SGD(model.parameters(),lr=lr,momentum=0.9,weight_decay=5e-4)\n",
    "    \n",
    "    #定义学习率的更新策略\n",
    "    scheduler = optim.lr_scheduler.StepLR(optimizer,step_size=5,gamma=0.1)\n",
    "    \n",
    "    #将模型和损失函数放入到训练设备中\n",
    "    model.to(device)\n",
    "    criterion.to(device)\n",
    "    \n",
    "    #日志记录\n",
    "    log_dir = os.path.join(save_dir,'models',datetime.now().strftime('%b%d_%H-%M-%S') + '_' + socket.gethostname())\n",
    "    writer = SummaryWriter(log_dir=log_dir)\n",
    "    \n",
    "    #开始模型的训练\n",
    "    trainval_loaders = {'train':train_dataloader,'val':val_dataloader} #将训练集和验证集以字典的显示保存\n",
    "    trainval_sizes = {x:len(trainval_loaders[x].dataset) for x in\n",
    "                     ['train','val']} #计算训练集和验证集的大小 {'train':8460,'val':2159}\n",
    "    test_size = len(test_dataloader.dataset) #计算测试集的大小test_size:2701\n",
    "    \n",
    "    \n",
    "    #开始训练\n",
    "    for epoch in range(num_epochs):\n",
    "        for phase in ['train','val']:\n",
    "            start_time = timeit.default_timer() #计算训练开始时间\n",
    "            running_loss = 0.0 #初始化loss值\n",
    "            running_corrects = 0.0 #初始化准确率值\n",
    "            \n",
    "            \n",
    "            if phase == 'train':\n",
    "                model.train()\n",
    "            else:\n",
    "                model.eval()\n",
    "                \n",
    "            for inputs,labels in tqdm(trainval_loaders[phase]):\n",
    "                #将数据放到设备中\n",
    "                #inputs = inputs.to(device)\n",
    "                #labels = labels.long()\n",
    "                #labels = labels.to(device)\n",
    "                inputs = Variable(inputs,requires_grad=True).to(device)\n",
    "                labels = Variable(labels).to(device)\n",
    "                optimizer.zero_grad() #梯度清零\n",
    "                \n",
    "                if phase == 'train':\n",
    "                    outputs = model(inputs)\n",
    "                else:\n",
    "                    with torch.no_grad():\n",
    "                        outputs = model(inputs)\n",
    "                \n",
    "                #计算softmax的输出概率\n",
    "                probs = nn.Softmax(dim=1)(outputs)\n",
    "                #计算最大概率值的标签\n",
    "                preds = torch.max(probs,1)[1]\n",
    "                \n",
    "                labels = labels.long() #计算最大概率值的标签\n",
    "                loss = criterion(outputs,labels) #计算损失\n",
    "                \n",
    "                if phase == 'train':\n",
    "                    loss.backward()\n",
    "                    optimizer.step()\n",
    "                    \n",
    "                #计算该轮次所有loss值的累加\n",
    "                running_loss += loss.item() * inputs.size(0)\n",
    "                \n",
    "                #计算该轮次所有预测正确值的累加\n",
    "                running_corrects += torch.sum(preds == labels.data)\n",
    "            \n",
    "            scheduler.step()\n",
    "            epoch_loss = running_loss / trainval_sizes[phase] #计算该轮次的loss值，总loss除以样本数量\n",
    "            epoch_acc = running_corrects.double() / trainval_sizes[phase] #计算该轮次的准确率值，总预测正确值除以样本数量\n",
    "            \n",
    "            if phase == 'train':\n",
    "                writer.add_scalar('data/train_loss_epoch',epoch_loss,epoch)\n",
    "                writer.add_scalar('data/train_acc_epoch',epoch_acc,epoch)\n",
    "            else:\n",
    "                writer.add_scalar('data/val_loss_epoch',epoch_loss,epoch)\n",
    "                writer.add_scalar('data/val_acc_epoch',epoch_acc,epoch)\n",
    "            #计算停止的时间戳\n",
    "            stop_time = timeit.default_timer()\n",
    "            \n",
    "            print(\"[{}] Epoch: {}/{} Loss: {} Acc: {}\".format(phase,epoch + 1,num_epochs,epoch_loss,epoch_acc))\n",
    "            print(\"Execution time: \" + str(stop_time - start_time) + \"\\n\")\n",
    "            \n",
    "    writer.close()\n",
    "    \n",
    "    #保存训练好的权重\n",
    "    torch.save({'epoch':epoch + 1,'state_dict':model.state_dict(),'opt_dict':optimizer.state_dict(),},\n",
    "              os.path.join(save_dir,'models','C3D' + '_epoch-' + str(epoch) + '.pth.tar'))\n",
    "    print(\"Save model at {}\\n\".format(os.path.join(save_dir,'models','C3D' + '_epoch-' + str(epoch) + '.pth.tar')))\n",
    "    \n",
    "    #开始模型的测试\n",
    "    model.eval()\n",
    "    running_corrects = 0.0 #初始化准确率的值\n",
    "    for inputs,labels in tqdm(test_dataloader):\n",
    "        #将数据放到设备中\n",
    "        inputs = inputs.to(device)\n",
    "        labels = labels.long()\n",
    "        labels = labels.to(device)\n",
    "                \n",
    "        with torch.no_grad():\n",
    "            outputs = model(inputs)\n",
    "                \n",
    "        #计算softmax的输出概率\n",
    "        probs = nn.Softmax(dim=1)(outputs)\n",
    "        #计算最大概率值的标签\n",
    "        preds = torch.max(probs,1)[1]\n",
    "                \n",
    "        running_corrects += torch.sum(preds == labels.data)\n",
    "    epoch_acc = running_corrects.double() / test_size #计算该轮次的准确率值，总预测正确值除以样本数量\n",
    "    print(\"test Acc: {}\".format(epoch_acc))"
   ]
  },
  {
   "cell_type": "code",
   "execution_count": 3,
   "id": "060951b3",
   "metadata": {},
   "outputs": [
    {
     "name": "stdout",
     "output_type": "stream",
     "text": [
      "Number of train video: 8460\n",
      "Number of test video: 2701\n",
      "Number of val video: 2159\n"
     ]
    },
    {
     "name": "stderr",
     "output_type": "stream",
     "text": [
      "100%|█████████████████████████████████████| 1058/1058 [1:44:41<00:00,  5.94s/it]\n"
     ]
    },
    {
     "name": "stdout",
     "output_type": "stream",
     "text": [
      "[train] Epoch: 1/15 Loss: 3.0568405091057995 Acc: 0.2950354609929078\n",
      "Execution time: 6281.924196292\n",
      "\n"
     ]
    },
    {
     "name": "stderr",
     "output_type": "stream",
     "text": [
      "100%|█████████████████████████████████████████| 270/270 [08:39<00:00,  1.93s/it]\n"
     ]
    },
    {
     "name": "stdout",
     "output_type": "stream",
     "text": [
      "[val] Epoch: 1/15 Loss: 1.7139579253236175 Acc: 0.5257063455303381\n",
      "Execution time: 519.9737724590004\n",
      "\n"
     ]
    },
    {
     "name": "stderr",
     "output_type": "stream",
     "text": [
      "100%|█████████████████████████████████████| 1058/1058 [1:42:13<00:00,  5.80s/it]\n"
     ]
    },
    {
     "name": "stdout",
     "output_type": "stream",
     "text": [
      "[train] Epoch: 2/15 Loss: 1.2909913121984642 Acc: 0.6578014184397163\n",
      "Execution time: 6133.3106570830005\n",
      "\n"
     ]
    },
    {
     "name": "stderr",
     "output_type": "stream",
     "text": [
      "100%|█████████████████████████████████████████| 270/270 [08:20<00:00,  1.85s/it]\n"
     ]
    },
    {
     "name": "stdout",
     "output_type": "stream",
     "text": [
      "[val] Epoch: 2/15 Loss: 1.0196253193365825 Acc: 0.7081982399258916\n",
      "Execution time: 500.1303408749991\n",
      "\n"
     ]
    },
    {
     "name": "stderr",
     "output_type": "stream",
     "text": [
      "100%|█████████████████████████████████████| 1058/1058 [1:42:06<00:00,  5.79s/it]\n"
     ]
    },
    {
     "name": "stdout",
     "output_type": "stream",
     "text": [
      "[train] Epoch: 3/15 Loss: 0.8886795352197673 Acc: 0.7552009456264775\n",
      "Execution time: 6126.584355834\n",
      "\n"
     ]
    },
    {
     "name": "stderr",
     "output_type": "stream",
     "text": [
      "100%|█████████████████████████████████████████| 270/270 [08:21<00:00,  1.86s/it]\n"
     ]
    },
    {
     "name": "stdout",
     "output_type": "stream",
     "text": [
      "[val] Epoch: 3/15 Loss: 0.8411752359658735 Acc: 0.7647058823529411\n",
      "Execution time: 501.34465674999956\n",
      "\n"
     ]
    },
    {
     "name": "stderr",
     "output_type": "stream",
     "text": [
      "100%|█████████████████████████████████████| 1058/1058 [1:45:13<00:00,  5.97s/it]\n"
     ]
    },
    {
     "name": "stdout",
     "output_type": "stream",
     "text": [
      "[train] Epoch: 4/15 Loss: 0.2598436961235615 Acc: 0.9236406619385342\n",
      "Execution time: 6313.151986124998\n",
      "\n"
     ]
    },
    {
     "name": "stderr",
     "output_type": "stream",
     "text": [
      "100%|█████████████████████████████████████████| 270/270 [08:22<00:00,  1.86s/it]\n"
     ]
    },
    {
     "name": "stdout",
     "output_type": "stream",
     "text": [
      "[val] Epoch: 4/15 Loss: 0.2833302386281807 Acc: 0.9180176007410839\n",
      "Execution time: 502.4875261669986\n",
      "\n"
     ]
    },
    {
     "name": "stderr",
     "output_type": "stream",
     "text": [
      "100%|█████████████████████████████████████| 1058/1058 [1:40:52<00:00,  5.72s/it]\n"
     ]
    },
    {
     "name": "stdout",
     "output_type": "stream",
     "text": [
      "[train] Epoch: 5/15 Loss: 0.15217134975841304 Acc: 0.9529550827423168\n",
      "Execution time: 6052.468771584001\n",
      "\n"
     ]
    },
    {
     "name": "stderr",
     "output_type": "stream",
     "text": [
      "100%|█████████████████████████████████████████| 270/270 [08:28<00:00,  1.88s/it]\n"
     ]
    },
    {
     "name": "stdout",
     "output_type": "stream",
     "text": [
      "[val] Epoch: 5/15 Loss: 0.2395076516313767 Acc: 0.9337656322371468\n",
      "Execution time: 508.7552712089964\n",
      "\n"
     ]
    },
    {
     "name": "stderr",
     "output_type": "stream",
     "text": [
      "100%|█████████████████████████████████████| 1058/1058 [1:42:03<00:00,  5.79s/it]\n"
     ]
    },
    {
     "name": "stdout",
     "output_type": "stream",
     "text": [
      "[train] Epoch: 6/15 Loss: 0.10496561807618324 Acc: 0.9684397163120567\n",
      "Execution time: 6123.173393083001\n",
      "\n"
     ]
    },
    {
     "name": "stderr",
     "output_type": "stream",
     "text": [
      "100%|█████████████████████████████████████████| 270/270 [08:20<00:00,  1.85s/it]\n"
     ]
    },
    {
     "name": "stdout",
     "output_type": "stream",
     "text": [
      "[val] Epoch: 6/15 Loss: 0.23619804931063113 Acc: 0.9291338582677166\n",
      "Execution time: 500.54170004099433\n",
      "\n"
     ]
    },
    {
     "name": "stderr",
     "output_type": "stream",
     "text": [
      "100%|█████████████████████████████████████| 1058/1058 [1:45:11<00:00,  5.97s/it]\n"
     ]
    },
    {
     "name": "stdout",
     "output_type": "stream",
     "text": [
      "[train] Epoch: 7/15 Loss: 0.10214938554692223 Acc: 0.9698581560283688\n",
      "Execution time: 6311.095946542002\n",
      "\n"
     ]
    },
    {
     "name": "stderr",
     "output_type": "stream",
     "text": [
      "100%|█████████████████████████████████████████| 270/270 [08:24<00:00,  1.87s/it]\n"
     ]
    },
    {
     "name": "stdout",
     "output_type": "stream",
     "text": [
      "[val] Epoch: 7/15 Loss: 0.22741184866479983 Acc: 0.9351551644279759\n",
      "Execution time: 504.4744035409967\n",
      "\n"
     ]
    },
    {
     "name": "stderr",
     "output_type": "stream",
     "text": [
      "100%|█████████████████████████████████████| 1058/1058 [1:43:44<00:00,  5.88s/it]\n"
     ]
    },
    {
     "name": "stdout",
     "output_type": "stream",
     "text": [
      "[train] Epoch: 8/15 Loss: 0.10022220091538418 Acc: 0.9709219858156029\n",
      "Execution time: 6223.700571250003\n",
      "\n"
     ]
    },
    {
     "name": "stderr",
     "output_type": "stream",
     "text": [
      "100%|█████████████████████████████████████████| 270/270 [08:27<00:00,  1.88s/it]\n"
     ]
    },
    {
     "name": "stdout",
     "output_type": "stream",
     "text": [
      "[val] Epoch: 8/15 Loss: 0.23305279057034878 Acc: 0.9254284390921723\n",
      "Execution time: 507.8086408750023\n",
      "\n"
     ]
    },
    {
     "name": "stderr",
     "output_type": "stream",
     "text": [
      "100%|█████████████████████████████████████| 1058/1058 [1:43:44<00:00,  5.88s/it]\n"
     ]
    },
    {
     "name": "stdout",
     "output_type": "stream",
     "text": [
      "[train] Epoch: 9/15 Loss: 0.09844819737923258 Acc: 0.9705673758865249\n",
      "Execution time: 6224.492254582998\n",
      "\n"
     ]
    },
    {
     "name": "stderr",
     "output_type": "stream",
     "text": [
      "100%|█████████████████████████████████████████| 270/270 [08:54<00:00,  1.98s/it]\n"
     ]
    },
    {
     "name": "stdout",
     "output_type": "stream",
     "text": [
      "[val] Epoch: 9/15 Loss: 0.22512700689883455 Acc: 0.9342288096340898\n",
      "Execution time: 534.6446708750009\n",
      "\n"
     ]
    },
    {
     "name": "stderr",
     "output_type": "stream",
     "text": [
      "100%|█████████████████████████████████████| 1058/1058 [1:42:27<00:00,  5.81s/it]\n"
     ]
    },
    {
     "name": "stdout",
     "output_type": "stream",
     "text": [
      "[train] Epoch: 10/15 Loss: 0.09382749702590552 Acc: 0.9726950354609929\n",
      "Execution time: 6147.506404957996\n",
      "\n"
     ]
    },
    {
     "name": "stderr",
     "output_type": "stream",
     "text": [
      "100%|█████████████████████████████████████████| 270/270 [08:23<00:00,  1.86s/it]\n"
     ]
    },
    {
     "name": "stdout",
     "output_type": "stream",
     "text": [
      "[val] Epoch: 10/15 Loss: 0.23490438594224514 Acc: 0.9305233904585456\n",
      "Execution time: 503.09848108400183\n",
      "\n"
     ]
    },
    {
     "name": "stderr",
     "output_type": "stream",
     "text": [
      "100%|█████████████████████████████████████| 1058/1058 [1:43:24<00:00,  5.86s/it]\n"
     ]
    },
    {
     "name": "stdout",
     "output_type": "stream",
     "text": [
      "[train] Epoch: 11/15 Loss: 0.09611419110800375 Acc: 0.973758865248227\n",
      "Execution time: 6204.214760749994\n",
      "\n"
     ]
    },
    {
     "name": "stderr",
     "output_type": "stream",
     "text": [
      "100%|█████████████████████████████████████████| 270/270 [08:37<00:00,  1.92s/it]\n"
     ]
    },
    {
     "name": "stdout",
     "output_type": "stream",
     "text": [
      "[val] Epoch: 11/15 Loss: 0.21152907129274554 Acc: 0.9407132931912923\n",
      "Execution time: 517.4463251669949\n",
      "\n"
     ]
    },
    {
     "name": "stderr",
     "output_type": "stream",
     "text": [
      "100%|█████████████████████████████████████| 1058/1058 [1:45:03<00:00,  5.96s/it]\n"
     ]
    },
    {
     "name": "stdout",
     "output_type": "stream",
     "text": [
      "[train] Epoch: 12/15 Loss: 0.09413193758163187 Acc: 0.9725768321513002\n",
      "Execution time: 6303.275719208003\n",
      "\n"
     ]
    },
    {
     "name": "stderr",
     "output_type": "stream",
     "text": [
      "100%|█████████████████████████████████████████| 270/270 [08:38<00:00,  1.92s/it]\n"
     ]
    },
    {
     "name": "stdout",
     "output_type": "stream",
     "text": [
      "[val] Epoch: 12/15 Loss: 0.21658798191711842 Acc: 0.9393237610004632\n",
      "Execution time: 518.5602437499911\n",
      "\n"
     ]
    },
    {
     "name": "stderr",
     "output_type": "stream",
     "text": [
      "100%|█████████████████████████████████████| 1058/1058 [1:43:42<00:00,  5.88s/it]\n"
     ]
    },
    {
     "name": "stdout",
     "output_type": "stream",
     "text": [
      "[train] Epoch: 13/15 Loss: 0.09848490375212182 Acc: 0.9728132387706856\n",
      "Execution time: 6222.198903541997\n",
      "\n"
     ]
    },
    {
     "name": "stderr",
     "output_type": "stream",
     "text": [
      "100%|█████████████████████████████████████████| 270/270 [08:28<00:00,  1.88s/it]\n"
     ]
    },
    {
     "name": "stdout",
     "output_type": "stream",
     "text": [
      "[val] Epoch: 13/15 Loss: 0.22812436589719343 Acc: 0.9346919870310328\n",
      "Execution time: 508.2481533329992\n",
      "\n"
     ]
    },
    {
     "name": "stderr",
     "output_type": "stream",
     "text": [
      "100%|█████████████████████████████████████| 1058/1058 [1:43:07<00:00,  5.85s/it]\n"
     ]
    },
    {
     "name": "stdout",
     "output_type": "stream",
     "text": [
      "[train] Epoch: 14/15 Loss: 0.0992398956720043 Acc: 0.9719858156028369\n",
      "Execution time: 6187.700047124992\n",
      "\n"
     ]
    },
    {
     "name": "stderr",
     "output_type": "stream",
     "text": [
      "100%|█████████████████████████████████████████| 270/270 [08:24<00:00,  1.87s/it]\n"
     ]
    },
    {
     "name": "stdout",
     "output_type": "stream",
     "text": [
      "[val] Epoch: 14/15 Loss: 0.2096583840234055 Acc: 0.9379342288096341\n",
      "Execution time: 504.7746469170088\n",
      "\n"
     ]
    },
    {
     "name": "stderr",
     "output_type": "stream",
     "text": [
      "100%|█████████████████████████████████████| 1058/1058 [1:45:23<00:00,  5.98s/it]\n"
     ]
    },
    {
     "name": "stdout",
     "output_type": "stream",
     "text": [
      "[train] Epoch: 15/15 Loss: 0.10193711794620676 Acc: 0.9709219858156029\n",
      "Execution time: 6323.557046792004\n",
      "\n"
     ]
    },
    {
     "name": "stderr",
     "output_type": "stream",
     "text": [
      "100%|█████████████████████████████████████████| 270/270 [08:43<00:00,  1.94s/it]\n"
     ]
    },
    {
     "name": "stdout",
     "output_type": "stream",
     "text": [
      "[val] Epoch: 15/15 Loss: 0.24109463308833332 Acc: 0.9295970356646596\n",
      "Execution time: 523.1211478749901\n",
      "\n",
      "Save model at model_resule/models/C3D_epoch-14.pth.tar\n",
      "\n"
     ]
    },
    {
     "name": "stderr",
     "output_type": "stream",
     "text": [
      "100%|█████████████████████████████████████████| 338/338 [11:09<00:00,  1.98s/it]"
     ]
    },
    {
     "name": "stdout",
     "output_type": "stream",
     "text": [
      "test Acc: 0.9352091817845243\n"
     ]
    },
    {
     "name": "stderr",
     "output_type": "stream",
     "text": [
      "\n"
     ]
    }
   ],
   "source": [
    "if __name__ == \"__main__\":\n",
    "    device = torch.device(\"cuda:0\" if torch.cuda.is_available() else \"cpu\")#定义模型训练的设备\n",
    "    num_classes = 101 #类别数\n",
    "    num_epochs = 15 #训练轮次\n",
    "    lr = 1e-3 #学习率\n",
    "    save_dir = 'model_resule'\n",
    "    \n",
    "    train_data = VideoDataset(dataset_path='data/ucf101',images_path='train',clip_len=16)\n",
    "    train_dataloader = DataLoader(train_data,batch_size=8,shuffle=True,num_workers=0)\n",
    "    \n",
    "    test_data = VideoDataset(dataset_path='data/ucf101',images_path='test',clip_len=16)\n",
    "    test_dataloader = DataLoader(test_data,batch_size=8,num_workers=0)\n",
    "    \n",
    "    val_data = VideoDataset(dataset_path='data/ucf101',images_path='val',clip_len=16)\n",
    "    val_dataloader = DataLoader(val_data,batch_size=8,num_workers=0)\n",
    "    \n",
    "    \n",
    "    train_model(num_classes,train_dataloader,val_dataloader,test_dataloader,num_epochs,lr,device,save_dir)"
   ]
  },
  {
   "cell_type": "code",
   "execution_count": null,
   "id": "7111ac15",
   "metadata": {},
   "outputs": [],
   "source": []
  }
 ],
 "metadata": {
  "kernelspec": {
   "display_name": "Python 3 (ipykernel)",
   "language": "python",
   "name": "python3"
  },
  "language_info": {
   "codemirror_mode": {
    "name": "ipython",
    "version": 3
   },
   "file_extension": ".py",
   "mimetype": "text/x-python",
   "name": "python",
   "nbconvert_exporter": "python",
   "pygments_lexer": "ipython3",
   "version": "3.9.18"
  }
 },
 "nbformat": 4,
 "nbformat_minor": 5
}
